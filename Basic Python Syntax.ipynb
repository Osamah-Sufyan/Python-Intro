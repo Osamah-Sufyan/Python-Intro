{
 "cells": [
  {
   "cell_type": "markdown",
   "id": "b7405906",
   "metadata": {},
   "source": [
    "# What is Python ?"
   ]
  },
  {
   "cell_type": "markdown",
   "id": "2ba3df35",
   "metadata": {},
   "source": [
    "\"Python is a high-level, general-purpose programming language.\""
   ]
  },
  {
   "cell_type": "code",
   "execution_count": null,
   "id": "54d153cf",
   "metadata": {},
   "outputs": [],
   "source": []
  },
  {
   "cell_type": "markdown",
   "id": "202fa931",
   "metadata": {},
   "source": [
    "# Data types and variables\n"
   ]
  },
  {
   "cell_type": "code",
   "execution_count": null,
   "id": "9a8f5cbf",
   "metadata": {},
   "outputs": [],
   "source": []
  },
  {
   "cell_type": "code",
   "execution_count": null,
   "id": "eb4074c7",
   "metadata": {},
   "outputs": [],
   "source": []
  },
  {
   "cell_type": "markdown",
   "id": "384d002d",
   "metadata": {},
   "source": [
    "$\\textbf{integers and floats}$"
   ]
  },
  {
   "cell_type": "code",
   "execution_count": 2,
   "id": "525ef5bf",
   "metadata": {},
   "outputs": [],
   "source": [
    "a = 2 #assignment of a variable"
   ]
  },
  {
   "cell_type": "code",
   "execution_count": 3,
   "id": "28c97546",
   "metadata": {},
   "outputs": [
    {
     "data": {
      "text/plain": [
       "int"
      ]
     },
     "execution_count": 3,
     "metadata": {},
     "output_type": "execute_result"
    }
   ],
   "source": [
    "type(a)"
   ]
  },
  {
   "cell_type": "code",
   "execution_count": 5,
   "id": "daac2b5f",
   "metadata": {},
   "outputs": [
    {
     "data": {
      "text/plain": [
       "float"
      ]
     },
     "execution_count": 5,
     "metadata": {},
     "output_type": "execute_result"
    }
   ],
   "source": [
    "a = 3.144\n",
    "type(a)"
   ]
  },
  {
   "cell_type": "code",
   "execution_count": 6,
   "id": "b0e4e0a8",
   "metadata": {},
   "outputs": [
    {
     "data": {
      "text/plain": [
       "3.144"
      ]
     },
     "execution_count": 6,
     "metadata": {},
     "output_type": "execute_result"
    }
   ],
   "source": [
    "a"
   ]
  },
  {
   "cell_type": "markdown",
   "id": "3cb8aa0e",
   "metadata": {},
   "source": [
    "$\\textbf{Strings}$ sequence of characters"
   ]
  },
  {
   "cell_type": "code",
   "execution_count": 9,
   "id": "f0d3a55e",
   "metadata": {},
   "outputs": [],
   "source": [
    "name = \"Alice\""
   ]
  },
  {
   "cell_type": "code",
   "execution_count": 10,
   "id": "37e2c164",
   "metadata": {},
   "outputs": [
    {
     "data": {
      "text/plain": [
       "'Alice'"
      ]
     },
     "execution_count": 10,
     "metadata": {},
     "output_type": "execute_result"
    }
   ],
   "source": [
    "name"
   ]
  },
  {
   "cell_type": "markdown",
   "id": "8c48d2c5",
   "metadata": {},
   "source": [
    "# Booleans"
   ]
  },
  {
   "cell_type": "code",
   "execution_count": 12,
   "id": "c2959acb",
   "metadata": {},
   "outputs": [],
   "source": [
    "mohammed_is_student = True\n",
    "mohammed_is_a_doctor = False\n",
    "\n",
    "mohammed_is_student ="
   ]
  },
  {
   "cell_type": "markdown",
   "id": "5a5248a9",
   "metadata": {},
   "source": [
    "# Operators "
   ]
  },
  {
   "cell_type": "markdown",
   "id": "ff18c87c",
   "metadata": {},
   "source": [
    "Arithmetic"
   ]
  },
  {
   "cell_type": "code",
   "execution_count": 14,
   "id": "cf6e0d05",
   "metadata": {},
   "outputs": [
    {
     "data": {
      "text/plain": [
       "19"
      ]
     },
     "execution_count": 14,
     "metadata": {},
     "output_type": "execute_result"
    }
   ],
   "source": [
    "a = 15\n",
    "b = 4\n",
    "\n"
   ]
  },
  {
   "cell_type": "code",
   "execution_count": 15,
   "id": "b7b635cb",
   "metadata": {},
   "outputs": [
    {
     "data": {
      "text/plain": [
       "19"
      ]
     },
     "execution_count": 15,
     "metadata": {},
     "output_type": "execute_result"
    }
   ],
   "source": [
    "a+b"
   ]
  },
  {
   "cell_type": "code",
   "execution_count": 16,
   "id": "f73856bd",
   "metadata": {},
   "outputs": [
    {
     "data": {
      "text/plain": [
       "11"
      ]
     },
     "execution_count": 16,
     "metadata": {},
     "output_type": "execute_result"
    }
   ],
   "source": [
    "a-b"
   ]
  },
  {
   "cell_type": "code",
   "execution_count": 17,
   "id": "db750311",
   "metadata": {},
   "outputs": [
    {
     "data": {
      "text/plain": [
       "60"
      ]
     },
     "execution_count": 17,
     "metadata": {},
     "output_type": "execute_result"
    }
   ],
   "source": [
    "a*b"
   ]
  },
  {
   "cell_type": "code",
   "execution_count": 18,
   "id": "7d6308ec",
   "metadata": {},
   "outputs": [
    {
     "data": {
      "text/plain": [
       "3.75"
      ]
     },
     "execution_count": 18,
     "metadata": {},
     "output_type": "execute_result"
    }
   ],
   "source": [
    "a/b"
   ]
  },
  {
   "cell_type": "code",
   "execution_count": 19,
   "id": "7cf05852",
   "metadata": {},
   "outputs": [
    {
     "data": {
      "text/plain": [
       "3"
      ]
     },
     "execution_count": 19,
     "metadata": {},
     "output_type": "execute_result"
    }
   ],
   "source": [
    "a%b"
   ]
  },
  {
   "cell_type": "code",
   "execution_count": 20,
   "id": "cc1adcd2",
   "metadata": {},
   "outputs": [
    {
     "data": {
      "text/plain": [
       "3"
      ]
     },
     "execution_count": 20,
     "metadata": {},
     "output_type": "execute_result"
    }
   ],
   "source": [
    "a//b"
   ]
  },
  {
   "cell_type": "code",
   "execution_count": 22,
   "id": "caf1bc27",
   "metadata": {},
   "outputs": [
    {
     "name": "stdout",
     "output_type": "stream",
     "text": [
      "15\n"
     ]
    }
   ],
   "source": [
    "# print function\n",
    "\n",
    "a = 15\n",
    "print(a)"
   ]
  },
  {
   "cell_type": "code",
   "execution_count": 23,
   "id": "2fae5bb7",
   "metadata": {},
   "outputs": [
    {
     "name": "stdout",
     "output_type": "stream",
     "text": [
      "False\n",
      "True\n",
      "True\n",
      "True\n"
     ]
    }
   ],
   "source": [
    "x = 7\n",
    "y = 1\n",
    "\n",
    "x = 7\n",
    "y = 10\n",
    "print(x == y)  \n",
    "print(x != y)  \n",
    "print(x < y)   \n",
    "print(x >= 7)  "
   ]
  },
  {
   "cell_type": "code",
   "execution_count": 24,
   "id": "a2eb26c6",
   "metadata": {},
   "outputs": [
    {
     "name": "stdout",
     "output_type": "stream",
     "text": [
      "False\n",
      "True\n",
      "False\n"
     ]
    }
   ],
   "source": [
    "a = True\n",
    "b = False\n",
    "print(a and b)  # Outputs: False (both need to be True)\n",
    "print(a or b)   # Outputs: True (either one can be True)\n",
    "print(not a)    # Outputs: False (negates the value of a)"
   ]
  },
  {
   "cell_type": "code",
   "execution_count": 25,
   "id": "9775d232",
   "metadata": {},
   "outputs": [
    {
     "name": "stdout",
     "output_type": "stream",
     "text": [
      "15\n",
      "30\n",
      "10.0\n"
     ]
    }
   ],
   "source": [
    "c = 10\n",
    "c += 5  # Equivalent to c = c + 5\n",
    "print(c)  # Outputs: 15\n",
    "\n",
    "c *= 2  # Equivalent to c = c * 2\n",
    "print(c)  # Outputs: 30\n",
    "\n",
    "c /= 3  # Equivalent to c = c / 3\n",
    "print(c)  # Outputs: 10.0"
   ]
  },
  {
   "cell_type": "markdown",
   "id": "cd88d7a3",
   "metadata": {},
   "source": [
    "Input/Output\n",
    "print() function:\n",
    "\n",
    "Displays output in the console.\n",
    "Multiple arguments can be separated by commas, and Python will insert a space between them."
   ]
  },
  {
   "cell_type": "code",
   "execution_count": 26,
   "id": "d0fb5afd",
   "metadata": {},
   "outputs": [
    {
     "name": "stdout",
     "output_type": "stream",
     "text": [
      "Hello, world!\n",
      "Name: Alice, Age: 30\n"
     ]
    }
   ],
   "source": [
    "print(\"Hello,\", \"world!\")  # Outputs: Hello, world!\n",
    "\n",
    "# Using formatted strings (f-strings) for more complex output\n",
    "name = \"Alice\"\n",
    "age = 30\n",
    "print(f\"Name: {name}, Age: {age}\")  # Outputs: Name: Alice, Age: 30"
   ]
  },
  {
   "cell_type": "code",
   "execution_count": 27,
   "id": "c2b2d123",
   "metadata": {},
   "outputs": [
    {
     "name": "stdout",
     "output_type": "stream",
     "text": [
      "Full name: John Doe\n"
     ]
    }
   ],
   "source": [
    "first_name = \"John\"\n",
    "last_name = \"Doe\"\n",
    "full_name = first_name + \" \" + last_name\n",
    "print(\"Full name:\", full_name)  # Outputs: John Doe"
   ]
  },
  {
   "cell_type": "code",
   "execution_count": 28,
   "id": "c8918e55",
   "metadata": {},
   "outputs": [
    {
     "name": "stdout",
     "output_type": "stream",
     "text": [
      "HaHaHa\n"
     ]
    }
   ],
   "source": [
    "laugh = \"Ha\"\n",
    "print(laugh * 3)  # Outputs: HaHaHa"
   ]
  },
  {
   "cell_type": "code",
   "execution_count": 29,
   "id": "4ad2e193",
   "metadata": {},
   "outputs": [
    {
     "name": "stdout",
     "output_type": "stream",
     "text": [
      "HELLO WORLD\n",
      "hello Python\n"
     ]
    }
   ],
   "source": [
    "message = \"hello world\"\n",
    "print(message.upper())  # Outputs: HELLO WORLD\n",
    "print(message.replace(\"world\", \"Python\"))  # Outputs: hello Python"
   ]
  },
  {
   "cell_type": "code",
   "execution_count": null,
   "id": "ce02542d",
   "metadata": {},
   "outputs": [],
   "source": []
  },
  {
   "cell_type": "code",
   "execution_count": 32,
   "id": "d4087bbb",
   "metadata": {},
   "outputs": [
    {
     "name": "stdout",
     "output_type": "stream",
     "text": [
      "Enter your name: ishdfil\n",
      "Hello, ishdfil\n",
      "Enter a number: 836894623\n",
      "You entered: 836894623\n"
     ]
    }
   ],
   "source": [
    "user_input = input(\"Enter your name: \")\n",
    "print(\"Hello,\", user_input)\n",
    "\n",
    "# Taking numerical input\n",
    "number = int(input(\"Enter a number: \"))\n",
    "print(\"You entered:\", number)\n"
   ]
  },
  {
   "cell_type": "code",
   "execution_count": 5,
   "id": "5f2d6de6",
   "metadata": {},
   "outputs": [
    {
     "name": "stdout",
     "output_type": "stream",
     "text": [
      "Enter text:Yemen,[b] officially the Republic of Yemen,[c] is a country in West Asia.[11] Located in southern Arabia, it borders Saudi Arabia to the north, Oman to the northeast, the Red Sea to the west, and the Indian Ocean to the south, sharing maritime borders with Eritrea, Djibouti and Somalia across the Horn of Africa. Covering roughly 528,000 square kilometres (203,861 square miles),[12] with a coastline of approximately 2,000 kilometres (1,200 miles), Yemen is the second largest country on the Arabian Peninsula.[13] Sanaa is its constitutional capital and largest city. Yemen's estimated population is 34.7 million, mostly Arab Muslims.[14] It is a member of the Arab League, the United Nations, the Non-Aligned Movement and the Organisation of Islamic Cooperation.\n",
      "Enter the word you want to replaceYemen\n",
      "Enter the word you want to addAlyaman\n",
      "Alyaman,[b] officially the Republic of Alyaman,[c] is a country in West Asia.[11] Located in southern Arabia, it borders Saudi Arabia to the north, Oman to the northeast, the Red Sea to the west, and the Indian Ocean to the south, sharing maritime borders with Eritrea, Djibouti and Somalia across the Horn of Africa. Covering roughly 528,000 square kilometres (203,861 square miles),[12] with a coastline of approximately 2,000 kilometres (1,200 miles), Alyaman is the second largest country on the Arabian Peninsula.[13] Sanaa is its constitutional capital and largest city. Alyaman's estimated population is 34.7 million, mostly Arab Muslims.[14] It is a member of the Arab League, the United Nations, the Non-Aligned Movement and the Organisation of Islamic Cooperation.\n"
     ]
    }
   ],
   "source": [
    "user_input = input(\"Enter text:\")\n",
    "old_word = input(\"Enter the word you want to replace\")\n",
    "new_word = input(\"Enter the word you want to add\")\n",
    "\n",
    "new_text   = user_input.replace(old_word, new_word)\n",
    "print(new_text)"
   ]
  },
  {
   "cell_type": "code",
   "execution_count": 3,
   "id": "d43d3361",
   "metadata": {},
   "outputs": [
    {
     "name": "stdout",
     "output_type": "stream",
     "text": [
      "Enter your age: sds\n",
      "Please enter a valid number.\n"
     ]
    }
   ],
   "source": [
    "# error exception\n",
    "\n",
    "try:\n",
    "    age = int(input(\"Enter your age: \"))\n",
    "    print(f\"You are {age} years old.\")\n",
    "except ValueError:\n",
    "    \n",
    "    print(\"Please enter a valid number.\")"
   ]
  },
  {
   "cell_type": "code",
   "execution_count": 36,
   "id": "86121d52",
   "metadata": {},
   "outputs": [
    {
     "ename": "SyntaxError",
     "evalue": "invalid decimal literal (926541901.py, line 1)",
     "output_type": "error",
     "traceback": [
      "\u001b[0;36m  Cell \u001b[0;32mIn[36], line 1\u001b[0;36m\u001b[0m\n\u001b[0;31m    int(98ß2304)\u001b[0m\n\u001b[0m         ^\u001b[0m\n\u001b[0;31mSyntaxError\u001b[0m\u001b[0;31m:\u001b[0m invalid decimal literal\n"
     ]
    }
   ],
   "source": []
  },
  {
   "cell_type": "code",
   "execution_count": null,
   "id": "c9de1050",
   "metadata": {},
   "outputs": [],
   "source": []
  }
 ],
 "metadata": {
  "kernelspec": {
   "display_name": "Python 3 (ipykernel)",
   "language": "python",
   "name": "python3"
  },
  "language_info": {
   "codemirror_mode": {
    "name": "ipython",
    "version": 3
   },
   "file_extension": ".py",
   "mimetype": "text/x-python",
   "name": "python",
   "nbconvert_exporter": "python",
   "pygments_lexer": "ipython3",
   "version": "3.10.9"
  }
 },
 "nbformat": 4,
 "nbformat_minor": 5
}
