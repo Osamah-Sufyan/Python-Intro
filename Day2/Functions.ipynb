{
 "cells": [
  {
   "cell_type": "markdown",
   "id": "73619792",
   "metadata": {},
   "source": [
    "# Functions"
   ]
  },
  {
   "cell_type": "code",
   "execution_count": 1,
   "id": "5ddfa139",
   "metadata": {},
   "outputs": [
    {
     "name": "stdout",
     "output_type": "stream",
     "text": [
      "Hello, Alice!\n"
     ]
    }
   ],
   "source": [
    "def greet(name):\n",
    "    return f\"Hello, {name}!\"\n",
    "\n",
    "# Using the function\n",
    "print(greet(\"Alice\")) "
   ]
  },
  {
   "cell_type": "code",
   "execution_count": 3,
   "id": "c5d2ad0f",
   "metadata": {},
   "outputs": [
    {
     "name": "stdout",
     "output_type": "stream",
     "text": [
      "8\n"
     ]
    }
   ],
   "source": [
    "def add(a, b):\n",
    "    return a + b\n",
    "\n",
    "# Using the function\n",
    "result = add(3, 5)\n",
    "print(result)  # Outputs: 8\n"
   ]
  },
  {
   "cell_type": "code",
   "execution_count": 13,
   "id": "949f9708",
   "metadata": {},
   "outputs": [
    {
     "name": "stdout",
     "output_type": "stream",
     "text": [
      "base of triangle: 3\n",
      "height of triangle: 45\n",
      "area = 67.5 m^2\n"
     ]
    }
   ],
   "source": [
    "def triangle_area():\n",
    "    a = input(\"base of triangle: \")\n",
    "    a = int(a)\n",
    "    b = input(\"height of triangle: \")\n",
    "    b = int(b)\n",
    "    area = (a/2)* b\n",
    "    \n",
    "    print(f\"area = {area} m^2\")\n",
    "\n",
    "# Using the function\n",
    "triangle_area()\n"
   ]
  },
  {
   "cell_type": "code",
   "execution_count": 2,
   "id": "ca4d81df",
   "metadata": {},
   "outputs": [
    {
     "name": "stdout",
     "output_type": "stream",
     "text": [
      "I am global\n",
      "I am local\n",
      "I am global\n"
     ]
    }
   ],
   "source": [
    "global_var = \"I am global\"\n",
    "\n",
    "def local_function():\n",
    "    local_var = \"I am local\"\n",
    "    print(global_var)  # Accessible\n",
    "    print(local_var)   # Accessible\n",
    "\n",
    "local_function()\n",
    "print(global_var)  # Accessible\n",
    "# print(local_var)  # Error: local_var is not accessible here\n"
   ]
  },
  {
   "cell_type": "code",
   "execution_count": 14,
   "id": "8cf4750d",
   "metadata": {},
   "outputs": [
    {
     "name": "stdout",
     "output_type": "stream",
     "text": [
      "Hello, Guest!\n",
      "Hello, Alice!\n"
     ]
    }
   ],
   "source": [
    "def greet(name=\"Guest\"):\n",
    "    return f\"Hello, {name}!\"\n",
    "\n",
    "print(greet())           # Outputs: Hello, Guest!\n",
    "print(greet(\"Alice\"))    # Outputs: Hello, Alice!\n"
   ]
  },
  {
   "cell_type": "code",
   "execution_count": 15,
   "id": "583b9469",
   "metadata": {},
   "outputs": [
    {
     "name": "stdout",
     "output_type": "stream",
     "text": [
      "Username: Alice\n",
      "Email: alice@example.com\n",
      "Age: 30\n"
     ]
    }
   ],
   "source": [
    "def register_user(username, email, age=None):\n",
    "    print(f\"Username: {username}\")\n",
    "    print(f\"Email: {email}\")\n",
    "    if age:\n",
    "        print(f\"Age: {age}\")\n",
    "\n",
    "register_user(\"Alice\", \"alice@example.com\", age=30)\n"
   ]
  },
  {
   "cell_type": "code",
   "execution_count": 16,
   "id": "422c903d",
   "metadata": {},
   "outputs": [
    {
     "name": "stdout",
     "output_type": "stream",
     "text": [
      "Execution finished.\n",
      "5.0\n",
      "Execution finished.\n",
      "Cannot divide by zero.\n",
      "Execution finished.\n",
      "Invalid input type.\n"
     ]
    }
   ],
   "source": [
    "def divide(x, y):\n",
    "    try:\n",
    "        result = x / y\n",
    "    except ZeroDivisionError:\n",
    "        return \"Cannot divide by zero.\"\n",
    "    except TypeError:\n",
    "        return \"Invalid input type.\"\n",
    "    else:\n",
    "        return result\n",
    "    finally:\n",
    "        print(\"Execution finished.\")\n",
    "\n",
    "print(divide(10, 2))    # Outputs: 5.0\n",
    "print(divide(10, 0))    # Outputs: Cannot divide by zero.\n",
    "print(divide(10, \"a\"))  # Outputs: Invalid input type.\n"
   ]
  },
  {
   "cell_type": "code",
   "execution_count": 2,
   "id": "b6c215cc",
   "metadata": {},
   "outputs": [
    {
     "name": "stderr",
     "output_type": "stream",
     "text": [
      "DEBUG:root:Adding 3 and 5\n"
     ]
    },
    {
     "name": "stdout",
     "output_type": "stream",
     "text": [
      "8\n"
     ]
    }
   ],
   "source": [
    "import logging\n",
    "\n",
    "logging.basicConfig(level=logging.DEBUG)\n",
    "\n",
    "def add(a, b):\n",
    "    logging.debug(f\"Adding {a} and {b}\")\n",
    "    return a + b\n",
    "\n",
    "print(add(3, 5))\n"
   ]
  },
  {
   "cell_type": "code",
   "execution_count": 3,
   "id": "baa97c3f",
   "metadata": {},
   "outputs": [
    {
     "name": "stderr",
     "output_type": "stream",
     "text": [
      "DEBUG:root:This is a debug message.\n",
      "INFO:root:This is an info message.\n",
      "WARNING:root:This is a warning message.\n",
      "ERROR:root:This is an error message.\n",
      "CRITICAL:root:This is a critical message.\n"
     ]
    }
   ],
   "source": [
    "import logging\n",
    "\n",
    "# Configure logging\n",
    "logging.basicConfig(level=logging.DEBUG, format='%(asctime)s - %(levelname)s - %(message)s')\n",
    "\n",
    "# Log messages of various severity levels\n",
    "logging.debug(\"This is a debug message.\")\n",
    "logging.info(\"This is an info message.\")\n",
    "logging.warning(\"This is a warning message.\")\n",
    "logging.error(\"This is an error message.\")\n",
    "logging.critical(\"This is a critical message.\")\n"
   ]
  },
  {
   "cell_type": "code",
   "execution_count": null,
   "id": "f391315b",
   "metadata": {},
   "outputs": [],
   "source": []
  }
 ],
 "metadata": {
  "kernelspec": {
   "display_name": "Python 3 (ipykernel)",
   "language": "python",
   "name": "python3"
  },
  "language_info": {
   "codemirror_mode": {
    "name": "ipython",
    "version": 3
   },
   "file_extension": ".py",
   "mimetype": "text/x-python",
   "name": "python",
   "nbconvert_exporter": "python",
   "pygments_lexer": "ipython3",
   "version": "3.10.9"
  }
 },
 "nbformat": 4,
 "nbformat_minor": 5
}
