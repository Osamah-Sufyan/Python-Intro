{
 "cells": [
  {
   "cell_type": "markdown",
   "id": "a4855c55",
   "metadata": {},
   "source": [
    "Lists(ordered mutable)"
   ]
  },
  {
   "cell_type": "code",
   "execution_count": null,
   "id": "a6546677",
   "metadata": {},
   "outputs": [],
   "source": []
  },
  {
   "cell_type": "code",
   "execution_count": 12,
   "id": "942cc38f",
   "metadata": {},
   "outputs": [],
   "source": [
    "my_list = [1, 2, 3, 4, 5]\n",
    "mixed_list = [1, \"hello\", 3.14, True]"
   ]
  },
  {
   "cell_type": "code",
   "execution_count": null,
   "id": "49793ff3",
   "metadata": {},
   "outputs": [],
   "source": []
  },
  {
   "cell_type": "code",
   "execution_count": 13,
   "id": "6d080662",
   "metadata": {},
   "outputs": [
    {
     "name": "stdout",
     "output_type": "stream",
     "text": [
      "1\n",
      "5\n"
     ]
    }
   ],
   "source": [
    "print(my_list[0])  # Output: 1\n",
    "print(my_list[-1])  # Output: 5 (last element)"
   ]
  },
  {
   "cell_type": "code",
   "execution_count": 14,
   "id": "fbb37706",
   "metadata": {},
   "outputs": [
    {
     "name": "stdout",
     "output_type": "stream",
     "text": [
      "[2, 3, 4]\n",
      "[1, 2, 3]\n",
      "[3, 4, 5]\n"
     ]
    }
   ],
   "source": [
    "print(my_list[1:4])  # Output: [2, 3, 4]\n",
    "print(my_list[:3])   # Output: [1, 2, 3]\n",
    "print(my_list[2:])   # Output: [3, 4, 5]"
   ]
  },
  {
   "cell_type": "code",
   "execution_count": 15,
   "id": "f7cee6f2",
   "metadata": {},
   "outputs": [],
   "source": [
    "my_list.append(6)    # Adds 6 to the end\n",
    "my_list.remove(3)    # Removes the first occurrence of 3"
   ]
  },
  {
   "cell_type": "markdown",
   "id": "3dd2dcea",
   "metadata": {},
   "source": [
    "Tuples: Ordered, Immutable Sequences"
   ]
  },
  {
   "cell_type": "code",
   "execution_count": 5,
   "id": "410ffc03",
   "metadata": {},
   "outputs": [
    {
     "name": "stdout",
     "output_type": "stream",
     "text": [
      "1\n"
     ]
    }
   ],
   "source": [
    "my_tuple = (1, 2, 3, 4, 5)\n",
    "print(my_tuple[0])  # Output: 1\n",
    "# my_tuple[0] = 10  # This would raise an error"
   ]
  },
  {
   "cell_type": "code",
   "execution_count": 6,
   "id": "3087a87e",
   "metadata": {},
   "outputs": [
    {
     "name": "stdout",
     "output_type": "stream",
     "text": [
      "1\n"
     ]
    }
   ],
   "source": [
    "my_dict = {\"apple\": 1, \"banana\": 2, \"orange\": 3}\n",
    "print(my_dict[\"apple\"])  # Output: 1"
   ]
  },
  {
   "cell_type": "code",
   "execution_count": 7,
   "id": "48d3bd63",
   "metadata": {},
   "outputs": [],
   "source": [
    "my_dict[\"grape\"] = 4     # Adds a new key-value pair\n",
    "my_dict[\"apple\"] = 5     # Updates existing value"
   ]
  },
  {
   "cell_type": "code",
   "execution_count": 8,
   "id": "70ab0f37",
   "metadata": {},
   "outputs": [],
   "source": [
    "del my_dict[\"banana\"]    # Removes the key-value pair\n",
    "popped_value = my_dict.pop(\"orange\")  # Removes and returns the value"
   ]
  },
  {
   "cell_type": "markdown",
   "id": "27f91e42",
   "metadata": {},
   "source": [
    " Sets: Unordered Collections of Unique Elements"
   ]
  },
  {
   "cell_type": "code",
   "execution_count": 17,
   "id": "2f7e6ea5",
   "metadata": {},
   "outputs": [],
   "source": [
    "my_set = {1, 2, 3, 4, 5}"
   ]
  },
  {
   "cell_type": "code",
   "execution_count": 18,
   "id": "cd9f9d62",
   "metadata": {},
   "outputs": [],
   "source": [
    "set1 = {1, 2, 3, 4}\n",
    "set2 = {3, 4, 5, 6}\n",
    "\n",
    "union_set = set1.union(set2)              # {1, 2, 3, 4, 5, 6}\n",
    "intersection_set = set1.intersection(set2) # {3, 4}"
   ]
  },
  {
   "cell_type": "code",
   "execution_count": 19,
   "id": "bc247084",
   "metadata": {},
   "outputs": [],
   "source": [
    "list1 = [1,2,2,3,3,4,5]\n",
    "seti = set(list1)"
   ]
  },
  {
   "cell_type": "code",
   "execution_count": 20,
   "id": "c52e5fdb",
   "metadata": {},
   "outputs": [
    {
     "data": {
      "text/plain": [
       "{1, 2, 3, 4, 5}"
      ]
     },
     "execution_count": 20,
     "metadata": {},
     "output_type": "execute_result"
    }
   ],
   "source": [
    "seti"
   ]
  },
  {
   "cell_type": "markdown",
   "id": "38fc4292",
   "metadata": {},
   "source": [
    "Strings: Immutable Sequences of Characters"
   ]
  },
  {
   "cell_type": "code",
   "execution_count": 11,
   "id": "9ff423b9",
   "metadata": {},
   "outputs": [
    {
     "name": "stdout",
     "output_type": "stream",
     "text": [
      "H\n",
      "World\n",
      "HELLO, WORLD!\n",
      "['Hello', ' World!']\n"
     ]
    }
   ],
   "source": [
    "my_string = \"Hello, World!\"\n",
    "print(my_string[0])     # Output: H\n",
    "print(my_string[7:12])  # Output: World\n",
    "\n",
    "# String methods\n",
    "print(my_string.upper())  # Output: HELLO, WORLD!\n",
    "print(my_string.split(\",\"))  # Output: ['Hello', ' World!']"
   ]
  },
  {
   "cell_type": "code",
   "execution_count": null,
   "id": "4db01b7a",
   "metadata": {},
   "outputs": [],
   "source": []
  }
 ],
 "metadata": {
  "kernelspec": {
   "display_name": "Python 3 (ipykernel)",
   "language": "python",
   "name": "python3"
  },
  "language_info": {
   "codemirror_mode": {
    "name": "ipython",
    "version": 3
   },
   "file_extension": ".py",
   "mimetype": "text/x-python",
   "name": "python",
   "nbconvert_exporter": "python",
   "pygments_lexer": "ipython3",
   "version": "3.10.9"
  }
 },
 "nbformat": 4,
 "nbformat_minor": 5
}
