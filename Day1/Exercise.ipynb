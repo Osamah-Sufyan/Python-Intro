{
 "cells": [
  {
   "cell_type": "markdown",
   "id": "42e41cca",
   "metadata": {},
   "source": [
    "# Exercise"
   ]
  },
  {
   "cell_type": "markdown",
   "id": "8516c947",
   "metadata": {},
   "source": [
    "Temperature Converter\n",
    "\n",
    "Write a program to convert temperatures from Celsius to Fahrenheit.\n",
    "Formula: Fahrenheit = (Celsius * 9/5) + 32\n",
    "Prompt the user to enter a Celsius value and display the equivalent in Fahrenheit."
   ]
  },
  {
   "cell_type": "code",
   "execution_count": null,
   "id": "2bc10ce5",
   "metadata": {},
   "outputs": [],
   "source": []
  }
 ],
 "metadata": {
  "kernelspec": {
   "display_name": "Python 3 (ipykernel)",
   "language": "python",
   "name": "python3"
  },
  "language_info": {
   "codemirror_mode": {
    "name": "ipython",
    "version": 3
   },
   "file_extension": ".py",
   "mimetype": "text/x-python",
   "name": "python",
   "nbconvert_exporter": "python",
   "pygments_lexer": "ipython3",
   "version": "3.10.9"
  }
 },
 "nbformat": 4,
 "nbformat_minor": 5
}
